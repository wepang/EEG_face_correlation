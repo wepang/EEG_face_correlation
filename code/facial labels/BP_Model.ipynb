{
 "cells": [
  {
   "cell_type": "code",
   "execution_count": null,
   "metadata": {},
   "outputs": [],
   "source": [
    "import tensorflow as tf\n",
    "import numpy as np\n",
    "import matplotlib.pyplot as plt\n",
    "import pandas as pd\n",
    "import random\n",
    "from sklearn.preprocessing import MinMaxScaler\n",
    "from tensorflow.python.client import device_lib\n",
    "import os"
   ]
  },
  {
   "cell_type": "code",
   "execution_count": null,
   "metadata": {},
   "outputs": [],
   "source": [
    "raw = pd.read_csv('face_dataset.csv')\n",
    "raw_data = raw.values\n",
    "raw_feature = raw_data[:, 0:10]\n",
    "scaler = MinMaxScaler()\n",
    "scaler.fit(raw_feature)\n",
    "\n",
    "scaler.data_max_\n",
    "print(scaler.data_max_,scaler.data_min_)\n",
    "raw_feature = scaler.transform(raw_feature)\n",
    "print(raw_feature)"
   ]
  },
  {
   "cell_type": "code",
   "execution_count": null,
   "metadata": {},
   "outputs": [],
   "source": [
    "os.environ['TF_CPP_MIN_LOG_LEVEL'] = '2'\n",
    "os.environ[\"CUDA_VISIBLE_DEVICES\"] = \"0\"\n",
    "\n",
    "def print_history(history):\n",
    "    # 绘制训练 & 验证的准确率值\n",
    "    plt.plot(history.history['accuracy'])\n",
    "    plt.plot(history.history['val_accuracy'])\n",
    "    plt.plot(history.history['loss'])\n",
    "    plt.plot(history.history['val_loss'])\n",
    "    plt.title('Model accuracy&loss')\n",
    "    plt.title('Model loss')\n",
    "    plt.xlabel('Epoch')\n",
    "    plt.legend(['Train_acc', 'Val_acc', 'Train_loss', 'Val_loss'])\n",
    "    plt.show()\n",
    "\n",
    "def BP(lr):\n",
    "\n",
    "    model = tf.keras.models.Sequential()\n",
    "    model.add(tf.keras.layers.Dense(40, activation='relu', input_shape=(9,)))\n",
    "    model.add(tf.keras.layers.Dense(16, activation='relu'))\n",
    "    model.add(tf.keras.layers.Dense(3, activation='softmax'))\n",
    "    model.build(input_shape=(None, 9))\n",
    "    model.compile(loss='categorical_crossentropy',\n",
    "                  optimizer=tf.keras.optimizers.Adam(lr),\n",
    "                  metrics=['accuracy'])\n",
    "\n",
    "    return model"
   ]
  },
  {
   "cell_type": "code",
   "execution_count": null,
   "metadata": {},
   "outputs": [],
   "source": [
    "import keras\n",
    "model_img_name = 'test.png'\n",
    "keras.utils.plot_model(model, model_img_name, show_shapes=True,dpi=200)"
   ]
  },
  {
   "cell_type": "code",
   "execution_count": null,
   "metadata": {},
   "outputs": [],
   "source": [
    "if __name__ == '__main__':\n",
    "\n",
    "    data = []\n",
    "    # 读取数据\n",
    "    raw = pd.read_csv('face_dataset.csv')\n",
    "    raw_data = raw.values\n",
    "    raw_feature = raw_data[:, 0:10]\n",
    "\n",
    "    # 数据归一化\n",
    "    scaler = MinMaxScaler()\n",
    "    scaler.fit(raw_feature)\n",
    "    scaler.data_max_\n",
    "    raw_feature = scaler.transform(raw_feature)\n",
    "\n",
    "    # 将最后一列的缺陷类别转成one-hot编码形式\n",
    "    x = []\n",
    "    y = []\n",
    "    for i in range(len(raw_feature)):\n",
    "        x.append(list(raw_feature[i]))\n",
    "        if raw_data[i][10] == 0:\n",
    "            y.append([1, 0, 0])\n",
    "        elif raw_data[i][10] == 1:\n",
    "            y.append([0, 1, 0])\n",
    "        elif raw_data[i][10] == 2:\n",
    "            y.append([0, 0, 1])\n",
    "            # 随机打乱数据\n",
    "    x = np.array(x)\n",
    "    y = np.array(y)\n",
    "    permutation = np.random.permutation(len(x))\n",
    "    x = x[permutation]\n",
    "    y = y[permutation]\n",
    "\n",
    "    # 选取打乱后的80%数据作为训练数据和验证数据\n",
    "    train_data = x[0:2400]\n",
    "    train_label = y[0:2400]\n",
    "\n",
    "    test_data = x[2400:]\n",
    "    test_label = y[2400:]\n",
    "\n",
    "    lr = 0.005  #学习率初值，可动态下降\n",
    "    bp_model = BP(lr=lr)\n",
    "\n",
    "    bp_model.summary()\n",
    "\n",
    "    #学习率动态衰减\n",
    "    lr_reducer = tf.keras.callbacks.ReduceLROnPlateau(monitor='val_loss',\n",
    "                                                      factor=0.8, patience=5,\n",
    "                                                      min_lr=0.5e-7)\n",
    "\n",
    "    # 早停法，保存训练中的最优参数\n",
    "    es = tf.keras.callbacks.EarlyStopping(monitor='val_loss', mode='min',\n",
    "                                          verbose=0, patience=30, min_delta=0.0001,\n",
    "                                          restore_best_weights='True')\n",
    "\n",
    "    history = bp_model.fit(train_data, train_label, batch_size=10, epochs=1000, verbose=1,\n",
    "                           callbacks=[lr_reducer, es], validation_split=0.2, shuffle=True)"
   ]
  },
  {
   "cell_type": "code",
   "execution_count": null,
   "metadata": {},
   "outputs": [],
   "source": [
    "\n",
    "print_history(history)\n",
    "print('loss, acc:', bp_model.evaluate(test_data, test_label, batch_size=100, verbose=0))"
   ]
  },
  {
   "cell_type": "code",
   "execution_count": null,
   "metadata": {},
   "outputs": [],
   "source": [
    "import sklearn\n",
    "from sklearn.metrics import accuracy_score\n",
    "test_true = np.argmax(test_label, axis=1)\n",
    "test_pred = np.argmax(bp_model.predict(test_data), axis=1)\n",
    "print(\"BP_Model Accuracy on test set: {:.4f}\".format(accuracy_score (test_true, test_pred)))"
   ]
  },
  {
   "cell_type": "code",
   "execution_count": null,
   "metadata": {},
   "outputs": [],
   "source": [
    "import pickle\n",
    "with open('history.txt', 'wb', ) as file_txt:\n",
    "    pickle.dump(history.history, file_txt)\n",
    "# 模型保存.h5\n",
    "bp_model.save('face_engage_76.h5')"
   ]
  }
 ],
 "metadata": {
  "kernelspec": {
   "display_name": "Python 3.9.12 ('base')",
   "language": "python",
   "name": "python3"
  },
  "language_info": {
   "codemirror_mode": {
    "name": "ipython",
    "version": 3
   },
   "file_extension": ".py",
   "mimetype": "text/x-python",
   "name": "python",
   "nbconvert_exporter": "python",
   "pygments_lexer": "ipython3",
   "version": "3.10.12"
  },
  "orig_nbformat": 4,
  "vscode": {
   "interpreter": {
    "hash": "991e2f69488ffc1a65da57a397a12078a5e5031fc49cedd7fe211fd659b35aa6"
   }
  }
 },
 "nbformat": 4,
 "nbformat_minor": 2
}

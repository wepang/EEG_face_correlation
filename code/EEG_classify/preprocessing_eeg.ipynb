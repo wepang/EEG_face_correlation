{
 "cells": [
  {
   "cell_type": "code",
   "execution_count": null,
   "metadata": {},
   "outputs": [],
   "source": [
    "import numpy as np\n",
    "from sklearn.model_selection import train_test_split\n",
    "from sklearn.preprocessing import StandardScaler\n",
    "from sklearn.svm import SVC\n",
    "import pandas as pd\n",
    "import os\n",
    "import matplotlib.pyplot as plt\n",
    "from sklearn.preprocessing import MinMaxScaler\n",
    "from sklearn.metrics import mean_squared_error\n",
    "from sklearn.metrics import precision_score,recall_score,f1_score\n",
    "import scipy"
   ]
  },
  {
   "cell_type": "code",
   "execution_count": null,
   "metadata": {},
   "outputs": [],
   "source": [
    "#clean the data\n",
    "file='train_set.csv'\n",
    "df = pd.read_csv(file)\n",
    "df_zscore = df.copy()\n",
    "cols = df.columns\n",
    "strange = set()\n",
    "for col in cols[:24]:\n",
    "    df_col = df[col]\n",
    "    med =  np.median(df_col)\n",
    "    #print(med)\n",
    "    ma = scipy.stats.median_abs_deviation(df_col)\n",
    "    #z_score = (df_col - df_col.mean()) / df_col.std()\n",
    "    #print(df_col.mean(),df_col.std())\n",
    "    #df_zscore[col] =z_score\n",
    "    m_score =( 0.6745 *(df_col-med))/np.median(ma)\n",
    "    df_zscore[col] = np.abs(m_score)<3\n",
    "    for x in np.where(df_zscore[col] == False)[0]:\n",
    "        #print(x)\n",
    "        strange.add(x)\n",
    "    #strange.add(x for x in np.where(df_zscore[col] == False)[0])\n"
   ]
  },
  {
   "cell_type": "code",
   "execution_count": null,
   "metadata": {},
   "outputs": [],
   "source": [
    "strange = list(strange)\n",
    "print(type(strange),len(strange))\n",
    "strange_new=[]\n",
    "for i in strange:\n",
    "    if df['face_label'][i].astype('int')==1: \n",
    "        strange_new.append(i)\n"
   ]
  },
  {
   "cell_type": "code",
   "execution_count": null,
   "metadata": {},
   "outputs": [],
   "source": [
    "file='train_set.csv'\n",
    "raw= pd.read_csv(file)\n",
    "df=pd.DataFrame(raw)\n",
    "df['raw'] = raw.index\n",
    "data = df.drop(strange_new,axis=0)\n"
   ]
  },
  {
   "cell_type": "code",
   "execution_count": null,
   "metadata": {},
   "outputs": [],
   "source": [
    "data.to_csv(r'train_set_drop.csv',index=0)"
   ]
  }
 ],
 "metadata": {
  "kernelspec": {
   "display_name": "py310_tf",
   "language": "python",
   "name": "python3"
  },
  "language_info": {
   "codemirror_mode": {
    "name": "ipython",
    "version": 3
   },
   "file_extension": ".py",
   "mimetype": "text/x-python",
   "name": "python",
   "nbconvert_exporter": "python",
   "pygments_lexer": "ipython3",
   "version": "3.10.12"
  },
  "orig_nbformat": 4
 },
 "nbformat": 4,
 "nbformat_minor": 2
}
